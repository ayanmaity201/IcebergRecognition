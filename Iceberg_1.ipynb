{
  "cells": [
    {
      "metadata": {
        "_uuid": "84e8fb50043642e4df9025319e87d0d54c405418",
        "_cell_guid": "4f18337e-24ff-479b-9983-c462cf195701",
        "trusted": false,
        "collapsed": true
      },
      "cell_type": "code",
      "source": "# This Python 3 environment comes with many helpful analytics libraries installed\n# It is defined by the kaggle/python docker image: https://github.com/kaggle/docker-python\n# For example, here's several helpful packages to load in \n\nimport numpy as np # linear algebra\nimport pandas as pd # data processing, CSV file I/O (e.g. pd.read_csv)\n\n# Input data files are available in the \"../input/\" directory.\n# For example, running this (by clicking run or pressing Shift+Enter) will list the files in the input directory\n\nfrom subprocess import check_output\nprint(check_output([\"ls\", \"../input\"]).decode(\"utf8\"))\n\n# Any results you write to the current directory are saved as output.",
      "execution_count": null,
      "outputs": []
    },
    {
      "metadata": {
        "_uuid": "13ba0a0236710f45fb9a667a8c9384d6d799790c",
        "_cell_guid": "efbb1c41-d707-443e-91aa-40698a0a1fae",
        "trusted": false,
        "collapsed": true
      },
      "cell_type": "code",
      "source": "train_df = pd.read_json('../input/train.json')\ntest_df = pd.read_json('../input/test.json')\ntrain_df.head()",
      "execution_count": null,
      "outputs": []
    },
    {
      "metadata": {
        "_uuid": "1b28aff3e0bda266c9287271f732eafed84f44d9",
        "_cell_guid": "f61606a0-ef4a-4483-bf60-925da9c49ac4",
        "trusted": false,
        "collapsed": true
      },
      "cell_type": "code",
      "source": "X_band_1=np.array([np.array(band).astype(np.float32).reshape(75, 75) for band in train_df[\"band_1\"]])\nX_band_2=np.array([np.array(band).astype(np.float32).reshape(75, 75) for band in train_df[\"band_2\"]])",
      "execution_count": null,
      "outputs": []
    },
    {
      "metadata": {
        "_uuid": "38c6b85295d0685db9cf5bfc93c71a622dc9f8b3",
        "_cell_guid": "518bea22-3061-4a8f-b96b-55bb521f169f",
        "trusted": false,
        "collapsed": true
      },
      "cell_type": "code",
      "source": "X_band = np.zeros([1604,75,75,2])\nfor t in range(1604):\n    X_band[t,:,:,0] = X_band_1[t]\n    X_band[t,:,:,1] = X_band_2[t]",
      "execution_count": null,
      "outputs": []
    },
    {
      "metadata": {
        "_uuid": "63c3c96a4b4a3d3970758e662cabd95721f40251",
        "_cell_guid": "536af589-deae-4513-b98d-a5573efc3fa4",
        "trusted": false,
        "collapsed": true
      },
      "cell_type": "code",
      "source": "from keras import layers\nfrom keras.layers import Input, Dense, Activation, ZeroPadding2D, BatchNormalization, Flatten, Conv2D\nfrom keras.layers import AveragePooling2D, MaxPooling2D, Dropout, GlobalMaxPooling2D, GlobalAveragePooling2D\nfrom keras.models import Model\nfrom keras.preprocessing import image\nfrom keras.utils import layer_utils\nfrom keras.utils.data_utils import get_file\nfrom keras.applications.imagenet_utils import preprocess_input\n\nfrom IPython.display import SVG\nfrom keras.utils.vis_utils import model_to_dot\nfrom keras.utils import plot_model\n\nimport keras.backend as K\nK.set_image_data_format('channels_last')\nimport matplotlib.pyplot as plt\nfrom matplotlib.pyplot import imshow",
      "execution_count": null,
      "outputs": []
    },
    {
      "metadata": {
        "_uuid": "9510d86571b94c2d28b3d37d5e9d6482a842c5da",
        "_cell_guid": "04581904-cddc-4bc9-b138-e63b294cd349",
        "collapsed": true,
        "trusted": false
      },
      "cell_type": "code",
      "source": "def Iceberg_model(input_shape):\n    X_in = Input(input_shape)\n    \n    X = Conv2D(10,kernel_size=(5,5),input_shape=(75,75,2))(X_in)\n    X = BatchNormalization()(X)\n    X = Activation('relu')(X)\n    X = MaxPooling2D(pool_size=(2,2))(X)\n    \n    X = Conv2D(10,kernel_size=(5,5))(X)\n    X = BatchNormalization()(X)\n    X = Activation('relu')(X)\n    X = MaxPooling2D(pool_size=(2,2))(X)\n    \n    X = Conv2D(10,kernel_size=(5,5))(X)\n    X = BatchNormalization()(X)\n    X = Activation('relu')(X)\n    X = MaxPooling2D(pool_size=(2,2))(X)\n    \n    X = Flatten()(X)\n    X = Dense(50)(X)\n    X = Activation('relu')(X)\n    \n    X = Dense(1)(X)\n    X = Activation('sigmoid')(X)\n    \n    model = Model(inputs=X_in,outputs=X,name='Iceberg_model')\n    return model",
      "execution_count": null,
      "outputs": []
    },
    {
      "metadata": {
        "_uuid": "ef3e44e0f29aae83c495493ccef5085f433e9353",
        "_cell_guid": "a1a52245-204f-469d-8c23-15fce151f3e2",
        "trusted": false,
        "collapsed": true
      },
      "cell_type": "code",
      "source": "IcebergModel = Iceberg_model((75,75,2))",
      "execution_count": null,
      "outputs": []
    },
    {
      "metadata": {
        "_uuid": "3cb7499553b8bfae81d7816e62797c35a2e8972e",
        "_cell_guid": "210dbebd-9de5-42eb-844d-09a3f78668cb",
        "collapsed": true,
        "trusted": false
      },
      "cell_type": "code",
      "source": "IcebergModel.compile(optimizer='adam',loss='binary_crossentropy',metrics=['accuracy'])",
      "execution_count": null,
      "outputs": []
    },
    {
      "metadata": {
        "_uuid": "ccdec6ec4d4defa8d8320e3d9cdf621514741edf",
        "_cell_guid": "d3911d93-17b2-45bc-a3d7-18e89d346f48",
        "trusted": false,
        "collapsed": true
      },
      "cell_type": "code",
      "source": "target = train_df['is_iceberg'].values\nIcebergModel.fit(x=X_band,y=target,epochs=20,batch_size=128)",
      "execution_count": null,
      "outputs": []
    },
    {
      "metadata": {
        "_uuid": "ba06b4530a78285e2509798ab130cae56d5c7d35",
        "_cell_guid": "a5e88400-93e6-4e40-b58f-440d30ecc28b",
        "trusted": false,
        "collapsed": true
      },
      "cell_type": "code",
      "source": "IcebergModel.evaluate(x=X_band,y=target)",
      "execution_count": null,
      "outputs": []
    },
    {
      "metadata": {
        "_uuid": "0762dfe5fc6f5e9522f73914022adb780d7669a2",
        "_cell_guid": "d16932ae-ec14-4987-8c04-b770d8600c61",
        "trusted": false,
        "collapsed": true
      },
      "cell_type": "code",
      "source": "test_df.shape",
      "execution_count": null,
      "outputs": []
    },
    {
      "metadata": {
        "_uuid": "e6016e7a9b231bd29d8905bda6ca5e2d7368d40c",
        "_cell_guid": "5c024d70-a897-4f2b-a7f1-06cdb2a4cb95",
        "trusted": false,
        "collapsed": true
      },
      "cell_type": "code",
      "source": "X_band_test_1=np.array([np.array(band).astype(np.float32).reshape(75, 75) for band in test_df[\"band_1\"]])\nX_band_test_2=np.array([np.array(band).astype(np.float32).reshape(75, 75) for band in test_df[\"band_2\"]])\nX_test = np.zeros([8424,75,75,2])\nfor t in range(8424):\n    X_test[t,:,:,0] = X_band_test_1[t]\n    X_test[t,:,:,1] = X_band_test_2[t]",
      "execution_count": null,
      "outputs": []
    },
    {
      "metadata": {
        "_uuid": "6862a663b2f8720a6208a9a524798838cc594e7a",
        "_cell_guid": "4b5495e4-d20f-4f9b-aa47-efe233c25a01",
        "trusted": false,
        "collapsed": true
      },
      "cell_type": "code",
      "source": "pred = IcebergModel.predict(x=X_test)",
      "execution_count": null,
      "outputs": []
    },
    {
      "metadata": {
        "_uuid": "0f6160de7e28e39a0725acb68a9a7a07d7a37c5d",
        "_cell_guid": "332f7e26-8394-4188-8fa3-6201cdfd8ac1",
        "trusted": false,
        "collapsed": true
      },
      "cell_type": "code",
      "source": "sub_df = pd.DataFrame()\nsub_df['id'] = test_df['id']\nsub_df['is_iceberg'] = pred\nsub_df.to_csv('output.csv',index=False)",
      "execution_count": null,
      "outputs": []
    },
    {
      "metadata": {
        "_uuid": "1659fd7a9877ff9436b29a512cc65dc560671772",
        "_cell_guid": "6f170743-3aa9-4278-a3c2-6f18d0c4bf92",
        "collapsed": true,
        "trusted": false
      },
      "cell_type": "code",
      "source": "",
      "execution_count": null,
      "outputs": []
    }
  ],
  "metadata": {
    "language_info": {
      "mimetype": "text/x-python",
      "nbconvert_exporter": "python",
      "file_extension": ".py",
      "pygments_lexer": "ipython3",
      "name": "python",
      "codemirror_mode": {
        "name": "ipython",
        "version": 3
      },
      "version": "3.6.3"
    },
    "kernelspec": {
      "display_name": "Python 3",
      "language": "python",
      "name": "python3"
    }
  },
  "nbformat": 4,
  "nbformat_minor": 1
}